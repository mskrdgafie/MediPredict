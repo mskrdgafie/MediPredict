{
  "nbformat": 4,
  "nbformat_minor": 0,
  "metadata": {
    "colab": {
      "provenance": []
    },
    "kernelspec": {
      "name": "python3",
      "display_name": "Python 3"
    },
    "language_info": {
      "name": "python"
    }
  },
  "cells": [
    {
      "cell_type": "code",
      "execution_count": null,
      "metadata": {
        "id": "U9n2DYWmyc_P"
      },
      "outputs": [],
      "source": [
        "# Import necessary libraries\n",
        "import pandas as pd\n",
        "from sklearn.model_selection import train_test_split\n",
        "from sklearn.feature_extraction.text import CountVectorizer\n",
        "from sklearn.ensemble import RandomForestClassifier\n",
        "from sklearn.metrics import accuracy_score, classification_report\n",
        "from sklearn.pipeline import make_pipeline\n",
        "from joblib import dump, load\n",
        "\n",
        "# Load your dataset (replace 'your_dataset.csv' with your actual dataset)\n",
        "# The dataset should have 'symptoms' and 'disease' columns\n",
        "df = pd.read_csv('/content/mydrive/dataset.csv')\n",
        "\n",
        "# Split the dataset into training and testing sets\n",
        "train_data, test_data, train_labels, test_labels = train_test_split(\n",
        "    df['symptoms'], df['disease'], test_size=0.2, random_state=42\n",
        ")\n",
        "\n",
        "# Create a pipeline with a simple CountVectorizer and a Random Forest classifier\n",
        "model = make_pipeline(CountVectorizer(), RandomForestClassifier(random_state=42))\n",
        "\n",
        "# Train the model\n",
        "model.fit(train_data, train_labels)\n",
        "\n",
        "# Make predictions on the test set\n",
        "predictions = model.predict(test_data)\n",
        "\n",
        "# Evaluate the model\n",
        "accuracy = accuracy_score(test_labels, predictions)\n",
        "print(f\"Accuracy: {accuracy}\")\n",
        "\n",
        "# Additional evaluation metrics\n",
        "print(\"Classification Report:\\n\", classification_report(test_labels, predictions))\n",
        "\n",
        "# Save the model to a file\n",
        "model_filename = 'disease_prediction_model.joblib'\n",
        "dump(model, model_filename)\n"
      ]
    }
  ]
}